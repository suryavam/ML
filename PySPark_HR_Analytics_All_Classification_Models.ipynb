{
  "nbformat": 4,
  "nbformat_minor": 0,
  "metadata": {
    "colab": {
      "provenance": []
    },
    "kernelspec": {
      "name": "python3",
      "display_name": "Python 3"
    },
    "language_info": {
      "name": "python"
    }
  },
  "cells": [
    {
      "cell_type": "code",
      "execution_count": 3,
      "metadata": {
        "colab": {
          "base_uri": "https://localhost:8080/"
        },
        "id": "tMsdoXn_QsDJ",
        "outputId": "6a8ad46a-c494-419e-8327-e23c70107e1c"
      },
      "outputs": [
        {
          "output_type": "stream",
          "name": "stdout",
          "text": [
            "Collecting pyspark\n",
            "  Downloading pyspark-3.4.1.tar.gz (310.8 MB)\n",
            "\u001b[2K     \u001b[90m━━━━━━━━━━━━━━━━━━━━━━━━━━━━━━━━━━━━━━━\u001b[0m \u001b[32m310.8/310.8 MB\u001b[0m \u001b[31m4.5 MB/s\u001b[0m eta \u001b[36m0:00:00\u001b[0m\n",
            "\u001b[?25h  Preparing metadata (setup.py) ... \u001b[?25l\u001b[?25hdone\n",
            "Requirement already satisfied: py4j==0.10.9.7 in /usr/local/lib/python3.10/dist-packages (from pyspark) (0.10.9.7)\n",
            "Building wheels for collected packages: pyspark\n",
            "  Building wheel for pyspark (setup.py) ... \u001b[?25l\u001b[?25hdone\n",
            "  Created wheel for pyspark: filename=pyspark-3.4.1-py2.py3-none-any.whl size=311285387 sha256=016d6ab7135be330cc89fb8f8a60b5b5aa1aa45f753352b14a9949a579ab1be1\n",
            "  Stored in directory: /root/.cache/pip/wheels/0d/77/a3/ff2f74cc9ab41f8f594dabf0579c2a7c6de920d584206e0834\n",
            "Successfully built pyspark\n",
            "Installing collected packages: pyspark\n",
            "Successfully installed pyspark-3.4.1\n"
          ]
        }
      ],
      "source": [
        "!pip install pyspark"
      ]
    },
    {
      "cell_type": "code",
      "source": [
        "import pyspark\n",
        "from pyspark .sql import SparkSession"
      ],
      "metadata": {
        "id": "8VE-47XNQtPf"
      },
      "execution_count": 4,
      "outputs": []
    },
    {
      "cell_type": "code",
      "source": [
        "spark=SparkSession.builder.appName(\"classification\").getOrCreate()"
      ],
      "metadata": {
        "id": "mvXcWVkHRYU7"
      },
      "execution_count": 5,
      "outputs": []
    },
    {
      "cell_type": "code",
      "source": [
        "hrdata=spark.read.csv(\"/content/drive/MyDrive/train.csv\",inferSchema=True,header=True)"
      ],
      "metadata": {
        "id": "dZQfIe-yUNTb"
      },
      "execution_count": 6,
      "outputs": []
    },
    {
      "cell_type": "code",
      "source": [
        "hrdata.show(5)"
      ],
      "metadata": {
        "colab": {
          "base_uri": "https://localhost:8080/"
        },
        "id": "bjwsYZibVF1A",
        "outputId": "5593b80d-0562-494e-e634-ba79cc4ccadc"
      },
      "execution_count": 7,
      "outputs": [
        {
          "output_type": "stream",
          "name": "stdout",
          "text": [
            "+-----------+-----------------+---------+----------------+------+-------------------+---------------+---+--------------------+-----------------+-------------+-----------+------------------+-----------+\n",
            "|employee_id|       department|   region|       education|gender|recruitment_channel|no_of_trainings|age|previous_year_rating|length_of_service|KPIs_met >80%|awards_won?|avg_training_score|is_promoted|\n",
            "+-----------+-----------------+---------+----------------+------+-------------------+---------------+---+--------------------+-----------------+-------------+-----------+------------------+-----------+\n",
            "|      65438|Sales & Marketing| region_7|Master's & above|     f|           sourcing|              1| 35|                   5|                8|            1|          0|                49|          0|\n",
            "|      65141|       Operations|region_22|      Bachelor's|     m|              other|              1| 30|                   5|                4|            0|          0|                60|          0|\n",
            "|       7513|Sales & Marketing|region_19|      Bachelor's|     m|           sourcing|              1| 34|                   3|                7|            0|          0|                50|          0|\n",
            "|       2542|Sales & Marketing|region_23|      Bachelor's|     m|              other|              2| 39|                   1|               10|            0|          0|                50|          0|\n",
            "|      48945|       Technology|region_26|      Bachelor's|     m|              other|              1| 45|                   3|                2|            0|          0|                73|          0|\n",
            "+-----------+-----------------+---------+----------------+------+-------------------+---------------+---+--------------------+-----------------+-------------+-----------+------------------+-----------+\n",
            "only showing top 5 rows\n",
            "\n"
          ]
        }
      ]
    },
    {
      "cell_type": "code",
      "source": [
        "hrdata.groupBy('education').count().show()"
      ],
      "metadata": {
        "colab": {
          "base_uri": "https://localhost:8080/"
        },
        "id": "spPd90hkVJz6",
        "outputId": "3a1c87a5-c614-4eb1-8a89-52dba7b3ce4f"
      },
      "execution_count": 8,
      "outputs": [
        {
          "output_type": "stream",
          "name": "stdout",
          "text": [
            "+----------------+-----+\n",
            "|       education|count|\n",
            "+----------------+-----+\n",
            "|            null| 2409|\n",
            "| Below Secondary|  805|\n",
            "|Master's & above|14925|\n",
            "|      Bachelor's|36669|\n",
            "+----------------+-----+\n",
            "\n"
          ]
        }
      ]
    },
    {
      "cell_type": "code",
      "source": [
        "hrdata=hrdata.na.fill(value=\"Bachelor's\",subset=['education'])"
      ],
      "metadata": {
        "id": "eclSFwPXVPs4"
      },
      "execution_count": 9,
      "outputs": []
    },
    {
      "cell_type": "code",
      "source": [
        "hrdata.groupBy('previous_year_rating').count().show()"
      ],
      "metadata": {
        "colab": {
          "base_uri": "https://localhost:8080/"
        },
        "id": "SavIysYFVUd3",
        "outputId": "3f09a5be-87e4-42a8-a88b-8b0c83c55b3c"
      },
      "execution_count": 10,
      "outputs": [
        {
          "output_type": "stream",
          "name": "stdout",
          "text": [
            "+--------------------+-----+\n",
            "|previous_year_rating|count|\n",
            "+--------------------+-----+\n",
            "|                null| 4124|\n",
            "|                   1| 6223|\n",
            "|                   3|18618|\n",
            "|                   5|11741|\n",
            "|                   4| 9877|\n",
            "|                   2| 4225|\n",
            "+--------------------+-----+\n",
            "\n"
          ]
        }
      ]
    },
    {
      "cell_type": "code",
      "source": [
        "hrdata=hrdata.na.fill(value=\"Bachelor's\",subset=['education'])"
      ],
      "metadata": {
        "id": "56vWFY2CVf3k"
      },
      "execution_count": 11,
      "outputs": []
    },
    {
      "cell_type": "code",
      "source": [
        "hrdata.groupBy('previous_year_rating').count().show()\n"
      ],
      "metadata": {
        "colab": {
          "base_uri": "https://localhost:8080/"
        },
        "id": "nvYtePA1WU1g",
        "outputId": "b2938aa5-cba7-4b23-fb02-b795aeda31d1"
      },
      "execution_count": 12,
      "outputs": [
        {
          "output_type": "stream",
          "name": "stdout",
          "text": [
            "+--------------------+-----+\n",
            "|previous_year_rating|count|\n",
            "+--------------------+-----+\n",
            "|                null| 4124|\n",
            "|                   1| 6223|\n",
            "|                   3|18618|\n",
            "|                   5|11741|\n",
            "|                   4| 9877|\n",
            "|                   2| 4225|\n",
            "+--------------------+-----+\n",
            "\n"
          ]
        }
      ]
    },
    {
      "cell_type": "code",
      "source": [
        "hrdata=hrdata.na.fill(value=3,subset=['previous_year_rating'])"
      ],
      "metadata": {
        "id": "RPzLUpCJWg-I"
      },
      "execution_count": 13,
      "outputs": []
    },
    {
      "cell_type": "code",
      "source": [
        "hrdata.columns"
      ],
      "metadata": {
        "colab": {
          "base_uri": "https://localhost:8080/"
        },
        "id": "5HzwsyG1WlRl",
        "outputId": "57a07652-e3b9-44a6-b561-2bce2163dd2e"
      },
      "execution_count": 14,
      "outputs": [
        {
          "output_type": "execute_result",
          "data": {
            "text/plain": [
              "['employee_id',\n",
              " 'department',\n",
              " 'region',\n",
              " 'education',\n",
              " 'gender',\n",
              " 'recruitment_channel',\n",
              " 'no_of_trainings',\n",
              " 'age',\n",
              " 'previous_year_rating',\n",
              " 'length_of_service',\n",
              " 'KPIs_met >80%',\n",
              " 'awards_won?',\n",
              " 'avg_training_score',\n",
              " 'is_promoted']"
            ]
          },
          "metadata": {},
          "execution_count": 14
        }
      ]
    },
    {
      "cell_type": "code",
      "source": [
        "from pyspark.ml.feature import StringIndexer\n",
        "from pyspark.ml import Pipeline"
      ],
      "metadata": {
        "id": "mA1hs_ImL5aY"
      },
      "execution_count": 17,
      "outputs": []
    },
    {
      "cell_type": "code",
      "source": [
        "indexer=[StringIndexer(inputCol=col,outputCol=col+\"index\").fit(hrdata)\n",
        "for col in list(set(hrdata.columns)-set(['no_of_trainings','age',\n",
        "                                         'length_of_service',\n",
        "                                         'avg_training_score','employee_id']))]"
      ],
      "metadata": {
        "id": "r7UXwO2hW6mD"
      },
      "execution_count": 18,
      "outputs": []
    },
    {
      "cell_type": "code",
      "source": [
        "pipeline=Pipeline(stages=indexer)"
      ],
      "metadata": {
        "id": "AdEdlOD0XXsL"
      },
      "execution_count": 19,
      "outputs": []
    },
    {
      "cell_type": "code",
      "source": [
        "hrdatadf=pipeline.fit(hrdata).transform(hrdata)"
      ],
      "metadata": {
        "id": "ovG0oQBiXa92"
      },
      "execution_count": 20,
      "outputs": []
    },
    {
      "cell_type": "code",
      "source": [
        "hrdatadf.columns\n"
      ],
      "metadata": {
        "colab": {
          "base_uri": "https://localhost:8080/"
        },
        "id": "9PeqGxdUXdyo",
        "outputId": "9d162808-dc99-4171-c782-de4c1ad19613"
      },
      "execution_count": 21,
      "outputs": [
        {
          "output_type": "execute_result",
          "data": {
            "text/plain": [
              "['employee_id',\n",
              " 'department',\n",
              " 'region',\n",
              " 'education',\n",
              " 'gender',\n",
              " 'recruitment_channel',\n",
              " 'no_of_trainings',\n",
              " 'age',\n",
              " 'previous_year_rating',\n",
              " 'length_of_service',\n",
              " 'KPIs_met >80%',\n",
              " 'awards_won?',\n",
              " 'avg_training_score',\n",
              " 'is_promoted',\n",
              " 'is_promotedindex',\n",
              " 'KPIs_met >80%index',\n",
              " 'departmentindex',\n",
              " 'previous_year_ratingindex',\n",
              " 'genderindex',\n",
              " 'educationindex',\n",
              " 'recruitment_channelindex',\n",
              " 'regionindex',\n",
              " 'awards_won?index']"
            ]
          },
          "metadata": {},
          "execution_count": 21
        }
      ]
    },
    {
      "cell_type": "code",
      "source": [
        "columnstodrop=['employee_id','deperment','region','education','gender',\n",
        "               'recruitment_channel','previous_year_rating','KPIs_met >80%',\n",
        "               'awards_won?','is_promoted']"
      ],
      "metadata": {
        "id": "Sr_Qw8i7XmXN"
      },
      "execution_count": 22,
      "outputs": []
    },
    {
      "cell_type": "code",
      "source": [
        "hrdatadf=hrdatadf.drop(*columnstodrop)"
      ],
      "metadata": {
        "id": "48-6ntLGXpl2"
      },
      "execution_count": 23,
      "outputs": []
    },
    {
      "cell_type": "code",
      "source": [
        "from pyspark.ml.feature import RFormula"
      ],
      "metadata": {
        "id": "TxMGzb0MX38n"
      },
      "execution_count": 24,
      "outputs": []
    },
    {
      "cell_type": "code",
      "source": [
        "formula=RFormula(formula=\"is_promotedindex~.\",featuresCol='features',\n",
        "                 labelCol='label')"
      ],
      "metadata": {
        "id": "RwHKQKFWYA96"
      },
      "execution_count": 25,
      "outputs": []
    },
    {
      "cell_type": "code",
      "source": [
        "hrdatadf=formula.fit(hrdatadf).transform(hrdatadf)"
      ],
      "metadata": {
        "id": "ja3p52jDYU0k"
      },
      "execution_count": 26,
      "outputs": []
    },
    {
      "cell_type": "code",
      "source": [
        "from pyspark.ml.classification import LogisticRegression"
      ],
      "metadata": {
        "id": "Yyzz8p65YX13"
      },
      "execution_count": 27,
      "outputs": []
    },
    {
      "cell_type": "code",
      "source": [
        "from pyspark.ml.evaluation import MulticlassClassificationEvaluator,BinaryClassificationEvaluator"
      ],
      "metadata": {
        "id": "i88YKf-9aLnX"
      },
      "execution_count": 38,
      "outputs": []
    },
    {
      "cell_type": "code",
      "source": [
        "logit=LogisticRegression()"
      ],
      "metadata": {
        "id": "P-3rp7J0aQNO"
      },
      "execution_count": 29,
      "outputs": []
    },
    {
      "cell_type": "code",
      "source": [
        "\n",
        "logitmodel=logit.fit(hrdatadf)"
      ],
      "metadata": {
        "id": "KNwUEtyOaUEI"
      },
      "execution_count": 30,
      "outputs": []
    },
    {
      "cell_type": "code",
      "source": [
        "logitmodel.summary.accuracy"
      ],
      "metadata": {
        "colab": {
          "base_uri": "https://localhost:8080/"
        },
        "id": "i5VbiirwaXkD",
        "outputId": "2d4303c3-0459-469d-de87-b2c2e6d9991b"
      },
      "execution_count": 31,
      "outputs": [
        {
          "output_type": "execute_result",
          "data": {
            "text/plain": [
              "0.9325098525762663"
            ]
          },
          "metadata": {},
          "execution_count": 31
        }
      ]
    },
    {
      "cell_type": "code",
      "source": [
        "logitpredict=logitmodel.transform(hrdatadf)"
      ],
      "metadata": {
        "id": "N285vExYaZ_6"
      },
      "execution_count": 32,
      "outputs": []
    },
    {
      "cell_type": "code",
      "source": [
        "logitmodel.summary.areaUnderROC"
      ],
      "metadata": {
        "colab": {
          "base_uri": "https://localhost:8080/"
        },
        "id": "KLDnt2mGbLYX",
        "outputId": "56cd4d61-2995-425c-a72e-4e71fdb738ac"
      },
      "execution_count": 33,
      "outputs": [
        {
          "output_type": "execute_result",
          "data": {
            "text/plain": [
              "0.8683153323222822"
            ]
          },
          "metadata": {},
          "execution_count": 33
        }
      ]
    },
    {
      "cell_type": "code",
      "source": [
        "accuracy=MulticlassClassificationEvaluator(metricName=\"accuracy\")\n"
      ],
      "metadata": {
        "id": "yF0qXGImdKWt"
      },
      "execution_count": 34,
      "outputs": []
    },
    {
      "cell_type": "code",
      "source": [
        "auc=BinaryClassificationEvaluator()"
      ],
      "metadata": {
        "id": "gqlgJbandPVs"
      },
      "execution_count": 39,
      "outputs": []
    },
    {
      "cell_type": "code",
      "source": [
        "from pyspark.ml.classification import DecisionTreeClassifier"
      ],
      "metadata": {
        "id": "_WT_OYpudS8L"
      },
      "execution_count": 40,
      "outputs": []
    },
    {
      "cell_type": "code",
      "source": [
        "tree=DecisionTreeClassifier(maxBins=35)"
      ],
      "metadata": {
        "id": "YTcdxAAEdYXw"
      },
      "execution_count": 41,
      "outputs": []
    },
    {
      "cell_type": "code",
      "source": [
        "treemodel=tree.fit(hrdatadf)"
      ],
      "metadata": {
        "id": "7GB7Qk59do5O"
      },
      "execution_count": 42,
      "outputs": []
    },
    {
      "cell_type": "code",
      "source": [
        "treepredict=treemodel.transform(hrdatadf)"
      ],
      "metadata": {
        "id": "-hc9wzHoeXGu"
      },
      "execution_count": 43,
      "outputs": []
    },
    {
      "cell_type": "code",
      "source": [
        "accuracy.evaluate(treepredict)"
      ],
      "metadata": {
        "colab": {
          "base_uri": "https://localhost:8080/"
        },
        "id": "pPArwu2nemVs",
        "outputId": "f904c02a-8a33-4e05-999c-55f661eeda97"
      },
      "execution_count": 44,
      "outputs": [
        {
          "output_type": "execute_result",
          "data": {
            "text/plain": [
              "0.926944971537002"
            ]
          },
          "metadata": {},
          "execution_count": 44
        }
      ]
    },
    {
      "cell_type": "code",
      "source": [
        "auc.evaluate(treepredict)"
      ],
      "metadata": {
        "colab": {
          "base_uri": "https://localhost:8080/"
        },
        "id": "bqKJ6Zvqep3d",
        "outputId": "8e95b3bd-89fa-4ec0-c091-490a48a788d2"
      },
      "execution_count": 45,
      "outputs": [
        {
          "output_type": "execute_result",
          "data": {
            "text/plain": [
              "0.5866679338981956"
            ]
          },
          "metadata": {},
          "execution_count": 45
        }
      ]
    },
    {
      "cell_type": "code",
      "source": [
        "from pyspark.ml.classification import RandomForestClassifier"
      ],
      "metadata": {
        "id": "1tOJgS59exGC"
      },
      "execution_count": 46,
      "outputs": []
    },
    {
      "cell_type": "code",
      "source": [
        "RF=RandomForestClassifier(maxBins=35)"
      ],
      "metadata": {
        "id": "KC2z7NDAHwqa"
      },
      "execution_count": 47,
      "outputs": []
    },
    {
      "cell_type": "code",
      "source": [
        "RFmodel=RF.fit(hrdatadf)"
      ],
      "metadata": {
        "id": "zxPHeslgNdX-"
      },
      "execution_count": 48,
      "outputs": []
    },
    {
      "cell_type": "code",
      "source": [
        "RFpredict=RFmodel.transform(hrdatadf)"
      ],
      "metadata": {
        "id": "4SWxIxlbNfsJ"
      },
      "execution_count": 49,
      "outputs": []
    },
    {
      "cell_type": "code",
      "source": [
        "accuracy.evaluate(RFpredict)\n"
      ],
      "metadata": {
        "colab": {
          "base_uri": "https://localhost:8080/"
        },
        "id": "PeWTdNvHON4c",
        "outputId": "dc8d82a0-fa0c-4e96-cc90-4605439ddba7"
      },
      "execution_count": 50,
      "outputs": [
        {
          "output_type": "execute_result",
          "data": {
            "text/plain": [
              "0.9246095460516713"
            ]
          },
          "metadata": {},
          "execution_count": 50
        }
      ]
    },
    {
      "cell_type": "code",
      "source": [
        "auc.evaluate(RFpredict)"
      ],
      "metadata": {
        "colab": {
          "base_uri": "https://localhost:8080/"
        },
        "id": "WTBB6aXIOSHD",
        "outputId": "6b7a5164-382f-43f1-d0c7-b3f200bdd318"
      },
      "execution_count": 52,
      "outputs": [
        {
          "output_type": "execute_result",
          "data": {
            "text/plain": [
              "0.8655182605243456"
            ]
          },
          "metadata": {},
          "execution_count": 52
        }
      ]
    },
    {
      "cell_type": "code",
      "source": [
        "from pyspark.ml.classification import GBTClassifier"
      ],
      "metadata": {
        "id": "aK3MUOpbOe-I"
      },
      "execution_count": 53,
      "outputs": []
    },
    {
      "cell_type": "code",
      "source": [
        "gbm=GBTClassifier(maxBins=35)"
      ],
      "metadata": {
        "id": "_lwAYAbKOpaA"
      },
      "execution_count": 54,
      "outputs": []
    },
    {
      "cell_type": "code",
      "source": [
        "gbmmodel=gbm.fit(hrdatadf)"
      ],
      "metadata": {
        "id": "DN7lcBMyOsAI"
      },
      "execution_count": 55,
      "outputs": []
    },
    {
      "cell_type": "code",
      "source": [
        "gbmpredict=gbmmodel.transform(hrdatadf)"
      ],
      "metadata": {
        "id": "6OHjp8dROvDo"
      },
      "execution_count": 56,
      "outputs": []
    },
    {
      "cell_type": "code",
      "source": [
        "auc.evaluate(gbmpredict)"
      ],
      "metadata": {
        "colab": {
          "base_uri": "https://localhost:8080/"
        },
        "id": "SfgOsltOO0bF",
        "outputId": "e32aa19c-dce0-442b-8c3e-6ae4968c2d7a"
      },
      "execution_count": 57,
      "outputs": [
        {
          "output_type": "execute_result",
          "data": {
            "text/plain": [
              "0.9159323218040043"
            ]
          },
          "metadata": {},
          "execution_count": 57
        }
      ]
    },
    {
      "cell_type": "code",
      "source": [
        "from pyspark.ml.classification import MultilayerPerceptronClassifier"
      ],
      "metadata": {
        "id": "PBnrRdNHO6Xr"
      },
      "execution_count": 58,
      "outputs": []
    },
    {
      "cell_type": "code",
      "source": [
        "nn=MultilayerPerceptronClassifier(layers=[11,100,2])\n",
        "# 11 - input , hidden layer 1 with 100 neurons and output layer 2"
      ],
      "metadata": {
        "id": "ysFz20q9PMu3"
      },
      "execution_count": 59,
      "outputs": []
    },
    {
      "cell_type": "code",
      "source": [
        "import os\n",
        "import sys\n",
        "\n"
      ],
      "metadata": {
        "id": "GtwFBX_BPPx5"
      },
      "execution_count": 62,
      "outputs": []
    },
    {
      "cell_type": "code",
      "source": [
        "os.environ['PYSPARK_PYTHON']=sys.executable\n",
        "os.environ['PYSPARK_DRIVER_PYTHON']=sys.executable"
      ],
      "metadata": {
        "id": "6K_Cl-QdPXq2"
      },
      "execution_count": 64,
      "outputs": []
    },
    {
      "cell_type": "code",
      "source": [
        "nnmodel=nn.fit(hrdatadf)"
      ],
      "metadata": {
        "id": "kEoRSdT1P-TW"
      },
      "execution_count": 65,
      "outputs": []
    },
    {
      "cell_type": "code",
      "source": [
        "nnpredict=nnmodel.transform(hrdatadf)"
      ],
      "metadata": {
        "id": "y9wxVBCcQ1q5"
      },
      "execution_count": 66,
      "outputs": []
    },
    {
      "cell_type": "code",
      "source": [],
      "metadata": {
        "id": "B7HBi25lRHb0"
      },
      "execution_count": null,
      "outputs": []
    }
  ]
}